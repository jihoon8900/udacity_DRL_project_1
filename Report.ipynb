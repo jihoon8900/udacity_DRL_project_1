{
 "cells": [
  {
   "cell_type": "markdown",
   "source": [
    "# Report"
   ],
   "metadata": {}
  },
  {
   "cell_type": "markdown",
   "source": [
    "## 1. Introduction"
   ],
   "metadata": {}
  },
  {
   "cell_type": "markdown",
   "source": [
    "This report was prepared for the first project of Udacity-\"[Deep Reinforcement Learning Nanodegree Program](https://www.udacity.com/course/deep-reinforcement-learning-nanodegree--nd893)\"."
   ],
   "metadata": {}
  },
  {
   "cell_type": "markdown",
   "source": [
    "## 2. Learning Algorithm"
   ],
   "metadata": {}
  },
  {
   "cell_type": "markdown",
   "source": [
    "I implemented [Deep Q-learning](https://www.cs.toronto.edu/~vmnih/docs/dqn.pdf) algorithm."
   ],
   "metadata": {}
  },
  {
   "cell_type": "markdown",
   "source": [
    "## 3. Implementation"
   ],
   "metadata": {}
  },
  {
   "cell_type": "markdown",
   "source": [
    "### A. Network"
   ],
   "metadata": {}
  },
  {
   "cell_type": "markdown",
   "source": [
    "| Layer | Type | Dimension |\r\n",
    "|:---:|:---:|:---:|\r\n",
    "| `Input` | Input (state) | 37 |\r\n",
    "| `1st hidden layer` | Fully connected layer | 64 |\r\n",
    "| `Activation function` | ReLu function | - |\r\n",
    "| `2nd hidden layer` | Fully connected layer | 64 |\r\n",
    "| `Activation function` | ReLu function | - |\r\n",
    "| `Output` | Output (action) | 4 |"
   ],
   "metadata": {}
  },
  {
   "cell_type": "markdown",
   "source": [
    "### B. Parameters"
   ],
   "metadata": {}
  },
  {
   "cell_type": "markdown",
   "source": [
    "| Parameter | Description | Value |\r\n",
    "|:---:|:---|:---:|\r\n",
    "| `BUFFER_SIZE` | Replay buffer size | 100,000 |\r\n",
    "| `BATCH_SIZE` | Minibatch size | 64 |\r\n",
    "| `GAMMA` | Discount factor | 0.99 |\r\n",
    "| `TAU` | For soft update of target parameters | 0.001 |\r\n",
    "| `LR` | Learning rate | 0.0005 |\r\n",
    "| `UPDATE_EVERY` | How often to update the network | 4 |\r\n",
    "| `n_episodes` | Maximum number of training episodes | 1,500 |\r\n",
    "| `max_t` | Maximum number of timesteps per episode | 1,000 |\r\n",
    "| `eps_start` | Starting value of epsilon, for epsilon-greedy action selection | 1.0 |\r\n",
    "| `eps_end` | Minimum value of epsilon | 0.01 |\r\n",
    "| `eps_decay` | Multiplicative factor (per episode) for decreasing epsilon | 0.995 |"
   ],
   "metadata": {}
  },
  {
   "cell_type": "markdown",
   "source": [
    "## 4. Execution"
   ],
   "metadata": {}
  },
  {
   "cell_type": "markdown",
   "source": [
    "### A. Train & Test"
   ],
   "metadata": {}
  },
  {
   "cell_type": "code",
   "execution_count": 1,
   "source": [
    "import os\r\n",
    "import numpy as np\r\n",
    "import matplotlib.pyplot as plt\r\n",
    "from unityagents import UnityEnvironment\r\n",
    "\r\n",
    "from dqn_agent import Agent\r\n",
    "from Navigation import train, test"
   ],
   "outputs": [],
   "metadata": {}
  },
  {
   "cell_type": "code",
   "execution_count": 2,
   "source": [
    "env = UnityEnvironment(file_name=os.getcwd() + \"/Banana_Windows_x86_64/Banana.exe\")\r\n",
    "agent = Agent(state_size=37, action_size=4, seed=0)\r\n",
    "\r\n",
    "train_n_episodes = 1500\r\n",
    "scores_train = train(env, agent, n_episodes=train_n_episodes)\r\n",
    "saved_model = os.getcwd() + f'/checkpoints/checkpoint_dqn_{train_n_episodes}.pth'\r\n",
    "scores_test = test(env, agent, n_episodes=100, saved_model=saved_model)\r\n",
    "\r\n",
    "env.close()"
   ],
   "outputs": [
    {
     "output_type": "stream",
     "name": "stderr",
     "text": [
      "INFO:unityagents:\n",
      "'Academy' started successfully!\n",
      "Unity Academy name: Academy\n",
      "        Number of Brains: 1\n",
      "        Number of External Brains : 1\n",
      "        Lesson number : 0\n",
      "        Reset Parameters :\n",
      "\t\t\n",
      "Unity brain name: BananaBrain\n",
      "        Number of Visual Observations (per agent): 0\n",
      "        Vector Observation space type: continuous\n",
      "        Vector Observation space size (per agent): 37\n",
      "        Number of stacked Vector Observation: 1\n",
      "        Vector Action space type: discrete\n",
      "        Vector Action space size (per agent): 4\n",
      "        Vector Action descriptions: , , , \n"
     ]
    },
    {
     "output_type": "stream",
     "name": "stdout",
     "text": [
      "Episode 100\tAverage Score: 0.92\n",
      "Episode 200\tAverage Score: 3.72\n",
      "Episode 300\tAverage Score: 6.93\n",
      "Episode 400\tAverage Score: 11.20\n",
      "Episode 500\tAverage Score: 12.09\n",
      "Episode 600\tAverage Score: 13.89\n",
      "Episode 700\tAverage Score: 13.90\n",
      "Episode 800\tAverage Score: 15.28\n",
      "Episode 900\tAverage Score: 14.77\n",
      "Episode 1000\tAverage Score: 16.30\n",
      "Episode 1100\tAverage Score: 15.79\n",
      "Episode 1200\tAverage Score: 16.69\n",
      "Episode 1300\tAverage Score: 16.93\n",
      "Episode 1400\tAverage Score: 15.59\n",
      "Episode 1500\tAverage Score: 16.27\n",
      "==============================\n",
      "Sucessfully loaded from c:\\Users\\jihoon\\Desktop\\git\\udacity_DRL_project_1/checkpoints/checkpoint_dqn_1500.pth\n",
      "==============================\n",
      "Episode 100\tAverage Score: 16.64\n",
      "==============================\n",
      "Test Average Score: 16.64\n",
      "==============================\n"
     ]
    }
   ],
   "metadata": {}
  },
  {
   "cell_type": "markdown",
   "source": [
    "### B. Plot Rewards"
   ],
   "metadata": {}
  },
  {
   "cell_type": "code",
   "execution_count": 3,
   "source": [
    "fig = plt.figure()\r\n",
    "plt.plot(np.arange(len(scores_train)), scores_train)\r\n",
    "plt.ylabel('Score')\r\n",
    "plt.xlabel('Episode')\r\n",
    "plt.show()"
   ],
   "outputs": [
    {
     "output_type": "display_data",
     "data": {
      "image/png": "[encoded data removed]",
      "text/plain": [
       "<Figure size 432x288 with 1 Axes>"
      ]
     },
     "metadata": {
      "needs_background": "light"
     }
    }
   ],
   "metadata": {}
  },
  {
   "cell_type": "markdown",
   "source": [
    "## 5. Ideas for Future Work"
   ],
   "metadata": {}
  },
  {
   "cell_type": "markdown",
   "source": [
    "Performance comparison with the items below.\r\n",
    "- Optimizing the hyperparameters.\r\n",
    "- Deepening the network model.\r\n",
    "- Using various algorithms instead of (vanilla) Deep Q-learning."
   ],
   "metadata": {}
  },
  {
   "cell_type": "markdown",
   "source": [
    "## +. Issues that I faced"
   ],
   "metadata": {}
  },
  {
   "cell_type": "markdown",
   "source": [
    "### Python version Error (UnicodeDecodeError)"
   ],
   "metadata": {}
  },
  {
   "cell_type": "markdown",
   "source": [
    "> UnicodeDecodeError: 'utf-8' codec can't decode byte 0xfe in position 63: invalid start byte\r\n",
    "\r\n",
    "-> [python version problem](https://knowledge.udacity.com/questions/524468)  \r\n",
    "-> change from 3.8.11 to 3.6.13\r\n",
    "\r\n",
    "(There was definitely a warning about the version, but I inadvertently overlooked it.)"
   ],
   "metadata": {}
  },
  {
   "cell_type": "markdown",
   "source": [
    "### Action's datatype error (AttributeError)"
   ],
   "metadata": {}
  },
  {
   "cell_type": "markdown",
   "source": [
    "> AttributeError: 'numpy.int64' object has no attribute 'keys'\r\n",
    "\r\n",
    "-> [data type problem](https://github.com/xkiwilabs/DQN-using-PyTorch-and-ML-Agents/issues/2)  \r\n",
    "-> change from 'numpy.int64' to 'numpy.int32'"
   ],
   "metadata": {}
  }
 ],
 "metadata": {
  "orig_nbformat": 4,
  "language_info": {
   "name": "python",
   "version": "3.6.13",
   "mimetype": "text/x-python",
   "codemirror_mode": {
    "name": "ipython",
    "version": 3
   },
   "pygments_lexer": "ipython3",
   "nbconvert_exporter": "python",
   "file_extension": ".py"
  },
  "kernelspec": {
   "name": "python3",
   "display_name": "Python 3.6.13 64-bit ('py36': conda)"
  },
  "interpreter": {
   "hash": "e91ca0dc9637791712447764dbe613afbb21893f5d536622bdb9acaf93959e4b"
  }
 },
 "nbformat": 4,
 "nbformat_minor": 2
}